{
  "nbformat": 4,
  "nbformat_minor": 0,
  "metadata": {
    "colab": {
      "provenance": [],
      "authorship_tag": "ABX9TyP3sa8iupbGvaDPuaXrne/R",
      "include_colab_link": true
    },
    "kernelspec": {
      "name": "python3",
      "display_name": "Python 3"
    },
    "language_info": {
      "name": "python"
    }
  },
  "cells": [
    {
      "cell_type": "markdown",
      "metadata": {
        "id": "view-in-github",
        "colab_type": "text"
      },
      "source": [
        "<a href=\"https://colab.research.google.com/github/puttadharani/Email-Campaign-Effectiveness-Prediction/blob/main/application_py.ipynb\" target=\"_parent\"><img src=\"https://colab.research.google.com/assets/colab-badge.svg\" alt=\"Open In Colab\"/></a>"
      ]
    },
    {
      "cell_type": "code",
      "execution_count": 2,
      "metadata": {
        "id": "HrYeEbgXhvbc"
      },
      "outputs": [],
      "source": [
        "from flask import Flask,request,app,render_template\n",
        "from flask import Response\n",
        "import pickle\n",
        "import numpy as np\n",
        "import pandas  as pd"
      ]
    },
    {
      "cell_type": "code",
      "source": [
        "application=Flask(__name__)\n",
        "app=application"
      ],
      "metadata": {
        "id": "AxwL8T_Ci-gI"
      },
      "execution_count": 3,
      "outputs": []
    },
    {
      "cell_type": "code",
      "source": [
        "from google.colab import drive\n",
        "drive.mount('/content/drive')"
      ],
      "metadata": {
        "colab": {
          "base_uri": "https://localhost:8080/"
        },
        "id": "1_-ZqYR8kBfk",
        "outputId": "3137b9e4-99a3-4b0b-f7ad-906d27df7b3b"
      },
      "execution_count": 4,
      "outputs": [
        {
          "output_type": "stream",
          "name": "stdout",
          "text": [
            "Mounted at /content/drive\n"
          ]
        }
      ]
    },
    {
      "cell_type": "code",
      "source": [
        "scaler=pickle.load(open('/content/drive/MyDrive/deploy_here/deploy_here.pkl','rb'))\n",
        "model=pickle.load(open('/content/drive/MyDrive/deploy_here/classification.pkl','rb'))"
      ],
      "metadata": {
        "id": "mvBUWOocjLS4"
      },
      "execution_count": 5,
      "outputs": []
    },
    {
      "cell_type": "code",
      "source": [
        "##route for homepage\n",
        "@app.route('/')\n",
        "def index():\n",
        "  return render_template('index.html')"
      ],
      "metadata": {
        "id": "zNtTgaWWj6Xp"
      },
      "execution_count": 6,
      "outputs": []
    },
    {
      "cell_type": "code",
      "source": [
        "'''Email_Type','Subject_Hotness_Score','Email_Source_Type','Customer_Location','Email_Campaign_Type',\n",
        "'Total_Past_Communications','Time_Email_sent_Category', 'Word_Count', 'Total_Links', 'Total_Images'''"
      ],
      "metadata": {
        "id": "o-QjXiwFpeTH",
        "colab": {
          "base_uri": "https://localhost:8080/",
          "height": 54
        },
        "outputId": "4b9b8f91-cc9f-4637-a5ca-b97cb16e933f"
      },
      "execution_count": 8,
      "outputs": [
        {
          "output_type": "execute_result",
          "data": {
            "text/plain": [
              "\"Email_Type','Subject_Hotness_Score','Email_Source_Type','Customer_Location','Email_Campaign_Type',\\n'Total_Past_Communications','Time_Email_sent_Category', 'Word_Count', 'Total_Links', 'Total_Images\""
            ],
            "application/vnd.google.colaboratory.intrinsic+json": {
              "type": "string"
            }
          },
          "metadata": {},
          "execution_count": 8
        }
      ]
    },
    {
      "cell_type": "code",
      "source": [
        "#route for single data point prediction\n",
        "@app.route('/predictdata',methods=['GET','POST'])\n",
        "def predict_datapoint():\n",
        "  result=''\n",
        "\n",
        "  if request.method=='POST':\n",
        "    email_id=request.form.get('Email_ID')\n",
        "    email_type=int(request.form.get('Email_Type'))\n",
        "    Subject_Hotness_Score=int(request.form.get( 'Subject_Hotness_Score'))\n",
        "    Email_Source_Type=int(request.form.get( 'Email_Source_Type'))\n",
        "    Customer_Location=request.form.get(  'Customer_Location')\n",
        "    Email_Campaign_Type=int(request.form.get( 'Email_Campaign_Type'))\n",
        "    Total_Past_Communications= int(request.form.get( 'Total_Past_Communications'))\n",
        "    Time_Email_sent_Category= int(request.form.get(  'Time_Email_sent_Category'))\n",
        "    Word_Count=int(request.form.get( 'Word_Count'))\n",
        "    Total_Links=int(request.form.get( 'Total_Links'))\n",
        "    Total_Images=int(request.form.get( 'Total_Images'))\n",
        "\n",
        "    new_data=scaler.transform([[Email_Type,Subject_Hotness_Score,Email_Source_Type,Customer_Location,Email_Campaign_Type,\n",
        "Total_Past_Communications,Time_Email_sent_Category,Word_Count,Total_Links,Total_Images]])\n",
        "    predict=model.predict(new_data)\n",
        "    if predict[0]==0:\n",
        "      result='ignored'\n",
        "    if predict[0]==1:\n",
        "      result='read'\n",
        "    if predict[0]==2:\n",
        "      result='acknowledged'\n",
        "\n",
        "    return render_template('single_prediction.html',result=result)\n",
        "\n",
        "  else:\n",
        "    return render_template('home.html')"
      ],
      "metadata": {
        "id": "nckutxz-lm1A"
      },
      "execution_count": 9,
      "outputs": []
    },
    {
      "cell_type": "code",
      "source": [
        "if __name__==\"__main__\":\n",
        "  app.run(host=\"0.0.0.0\")"
      ],
      "metadata": {
        "colab": {
          "base_uri": "https://localhost:8080/"
        },
        "id": "Yl7EBorgzmuM",
        "outputId": "9a0daedc-a55f-4f67-eef3-b3c2757e40cc"
      },
      "execution_count": 11,
      "outputs": [
        {
          "output_type": "stream",
          "name": "stdout",
          "text": [
            " * Serving Flask app '__main__'\n",
            " * Debug mode: off\n"
          ]
        },
        {
          "output_type": "stream",
          "name": "stderr",
          "text": [
            "INFO:werkzeug:\u001b[31m\u001b[1mWARNING: This is a development server. Do not use it in a production deployment. Use a production WSGI server instead.\u001b[0m\n",
            " * Running on all addresses (0.0.0.0)\n",
            " * Running on http://127.0.0.1:5000\n",
            " * Running on http://172.28.0.12:5000\n",
            "INFO:werkzeug:\u001b[33mPress CTRL+C to quit\u001b[0m\n"
          ]
        }
      ]
    },
    {
      "cell_type": "code",
      "source": [],
      "metadata": {
        "id": "OIht39US2d_s"
      },
      "execution_count": null,
      "outputs": []
    }
  ]
}